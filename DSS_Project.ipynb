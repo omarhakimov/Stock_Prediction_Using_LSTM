{
  "nbformat": 4,
  "nbformat_minor": 0,
  "metadata": {
    "colab": {
      "provenance": []
    },
    "kernelspec": {
      "name": "python3",
      "display_name": "Python 3"
    },
    "language_info": {
      "name": "python"
    }
  },
  "cells": [
    {
      "cell_type": "code",
      "execution_count": null,
      "metadata": {
        "colab": {
          "base_uri": "https://localhost:8080/"
        },
        "id": "IwAOvpLczxce",
        "outputId": "0a397361-2268-4e67-d18f-0f5dde93e0ab"
      },
      "outputs": [
        {
          "output_type": "stream",
          "name": "stdout",
          "text": [
            "Extracted files: ['000001_SS.csv', 'ssmi.csv', '399001_SZ.csv', 'n225.csv', 'J203_J0.csv', 'twii.csv', 'all_stocks.csv', 'hsi.csv', 'ks11.csv', 'gdaxi.csv', 'ixic.csv', 'n100.csv', 'nya.csv', 'nsei.csv', 'data', '.ipynb_checkpoints', 'gsptse.csv']\n"
          ]
        }
      ],
      "source": [
        "import zipfile\n",
        "import os\n",
        "\n",
        "# Path to the uploaded zip file\n",
        "#zip_file_path = \"sample_data/stock_dataset_separated.zip\"\n",
        "zip_file_path = \"data/Cleaned_Data.zip\"\n",
        "\n",
        "# Directory to extract the files\n",
        "extract_dir = \"sample_data/Data/extract\"\n",
        "\n",
        "# Extract the zip file\n",
        "with zipfile.ZipFile(zip_file_path, 'r') as zip_ref:\n",
        "    zip_ref.extractall(extract_dir)\n",
        "\n",
        "# List the extracted files\n",
        "extracted_files = os.listdir(extract_dir)\n",
        "print(f\"Extracted files: {extracted_files}\")\n"
      ]
    },
    {
      "cell_type": "code",
      "source": [
        "#This will clean the data\n",
        "import os\n",
        "import pandas as pd\n",
        "import numpy as np\n",
        "\n",
        "\n",
        "def clean_data_train(df, filename, directory):\n",
        "    # Drop rows with missing data across all columns, and drop data between 2014 and 2018\n",
        "    df = df.dropna()\n",
        "    df = df.drop(df.columns[0], axis=1)\n",
        "\n",
        "    if \"Date\" in df.columns:\n",
        "        df[\"Date\"] = pd.to_datetime(df[\"Date\"], errors='coerce')  # Convert to datetime, handling invalid dates\n",
        "        df = df[(df[\"Date\"].dt.year >= 2014) & (df[\"Date\"].dt.year <= 2018)]  # Keep rows with years between 2014 and 2018\n",
        "\n",
        "    # Normalize data\n",
        "    df = normalize_data(df)\n",
        "\n",
        "    df.to_csv(os.path.join(directory, \"train_\" + filename), header=True, index=False)\n",
        "\n",
        "    #return df\n",
        "\n",
        "def clean_data_test(df, filename, directory):\n",
        "    # Drop rows with missing data across all columns, and drop data between 2019 and 2020\n",
        "    df = df.dropna()\n",
        "    df = df.drop(df.columns[0], axis=1)\n",
        "\n",
        "    if \"Date\" in df.columns:\n",
        "        df[\"Date\"] = pd.to_datetime(df[\"Date\"], errors='coerce')  # Convert to datetime, handling invalid dates\n",
        "        df = df[(df[\"Date\"].dt.year >= 2019) & (df[\"Date\"].dt.year <= 2020)]  # Keep rows with year >= 2014\n",
        "\n",
        "    # Normalize data\n",
        "    df = normalize_data(df)\n",
        "\n",
        "    df.to_csv(os.path.join(directory, \"test_\" + filename), header=True, index=False)\n",
        "\n",
        "    #return df\n",
        "\n",
        "def clean_data_val(df, filename, directory):\n",
        "    # Drop rows with missing data across all columns, and drop data before the year 2014\n",
        "    df = df.dropna()\n",
        "    df = df.drop(df.columns[0], axis=1)\n",
        "\n",
        "    if \"Date\" in df.columns:\n",
        "        df[\"Date\"] = pd.to_datetime(df[\"Date\"], errors='coerce')  # Convert to datetime, handling invalid dates\n",
        "        df = df[df[\"Date\"].dt.year == 2020]  # Keep rows with year == 2020\n",
        "\n",
        "    # Normalize data\n",
        "    df = normalize_data(df)\n",
        "\n",
        "    df.to_csv(os.path.join(directory, \"val_\" + filename), header=True, index=False)\n",
        "\n",
        "    #return df\n",
        "\n",
        "\n",
        "def normalize_data(df):\n",
        "    # apply normalization techniques\n",
        "    for column in df.columns[2:]:  # Start from index 2 to exclude 'Index' and 'Date'\n",
        "        # Check if the column contains datetime or timedelta data\n",
        "        if df[column].dtype.kind in ('m', 'M'):  # 'm' for timedelta, 'M' for datetime\n",
        "            continue  # Skip normalization for datetime/timedelta columns\n",
        "\n",
        "        # Handle potential NaT values by replacing them with column mean\n",
        "        # if df[column].dtype.kind in ('f', 'i'):  # Check for numeric columns\n",
        "        df[column] = df[column].fillna(df[column].mean())  # Replace NaT with mean\n",
        "\n",
        "        # Continue with normalization\n",
        "        df[column] = (df[column] - df[column].min()) / (\n",
        "                df[column].max() - df[column].min())\n",
        "\n",
        "    return df\n",
        "\n",
        "\n",
        "\n",
        "directory = \"data\"\n",
        "for filename in os.listdir(\"data\"):\n",
        "    if not filename.endswith(\".csv\"):\n",
        "        continue\n",
        "    f = os.path.join(directory, filename)\n",
        "    if (filename == 'gsptse.csv'):\n",
        "        df = pd.read_csv(f)\n",
        "        df.columns = [\"Index\", \"Date\", \"Open\", \"High\", \"Low\", \"Close\", \"Adj Close\", \"Volume\"]\n",
        "        clean_data_train(df, filename, directory)\n",
        "        clean_data_test(df, filename, directory)\n",
        "        clean_data_val(df, filename, directory)\n",
        "\n",
        "\n"
      ],
      "metadata": {
        "id": "k_CcnXY9cg_j"
      },
      "execution_count": null,
      "outputs": []
    },
    {
      "cell_type": "code",
      "source": [
        "import pandas as pd\n",
        "import os\n",
        "\n",
        "# Directory containing the extracted files\n",
        "data_dir = \"data\"\n",
        "\n",
        "# Dictionary to hold the stock datasets\n",
        "stock_data = {}\n",
        "\n",
        "# Load each CSV file into a Pandas DataFrame\n",
        "for file_name in os.listdir(data_dir):\n",
        "    if not file_name.endswith('.csv'):\n",
        "        continue  # Skip non-CSV files\n",
        "    stock_name = os.path.splitext(file_name)[0]  # Get the file name without extension\n",
        "    file_path = os.path.join(data_dir, file_name)  # Full path to the file\n",
        "    stock_data[stock_name] = pd.read_csv(file_path)  # Load CSV into DataFrame\n",
        "\n",
        "# Check if the data has been loaded correctly (display first few rows of one dataset)\n",
        "print(stock_data[stock_name].head())\n"
      ],
      "metadata": {
        "id": "SJpvnAAKHuzs",
        "colab": {
          "base_uri": "https://localhost:8080/"
        },
        "outputId": "81d79d2e-83ad-4dce-db6d-a4d8262f0ccd"
      },
      "execution_count": null,
      "outputs": [
        {
          "output_type": "stream",
          "name": "stdout",
          "text": [
            "         Date         Open      High       Low     Close  Adj Close    Volume\n",
            "0  2014-01-02  13621.40039  0.362906  0.398782  0.370658   0.370658  0.109539\n",
            "1  2014-01-03  13594.20020  0.357062  0.397484  0.361069   0.361069  0.097305\n",
            "2  2014-01-06  13548.90039  0.349842  0.387780  0.349766   0.349766  0.129559\n",
            "3  2014-01-07  13495.09961  0.361982  0.392153  0.371230   0.371230  0.159343\n",
            "4  2014-01-08  13596.90039  0.366730  0.410463  0.374976   0.374976  0.171993\n"
          ]
        }
      ]
    },
    {
      "cell_type": "code",
      "source": [
        "'''\n",
        "# Define split ratios\n",
        "train_ratio = 0.7\n",
        "val_ratio = 0.15\n",
        "test_ratio = 0.15\n",
        "\n",
        "def split_data(df, train_ratio, val_ratio):\n",
        "    \"\"\"\n",
        "    Splits the data into training, validation, and testing sets.\n",
        "    \"\"\"\n",
        "\n",
        "    # Shuffle the data for randomness\n",
        "    df = df.sample(frac=1, random_state=42).reset_index(drop=True)\n",
        "\n",
        "    # Calculate split indices\n",
        "    train_size = int(len(df) * train_ratio)\n",
        "    val_size = int(len(df) * val_ratio)\n",
        "\n",
        "\n",
        "    # Perform the splits\n",
        "\n",
        "    train_data = df.iloc[:train_size]\n",
        "    val_data = df.iloc[train_size:train_size + val_size]\n",
        "    test_data = df.iloc[train_size + val_size:]\n",
        "\n",
        "    return train_data, val_data, test_data\n",
        "\n",
        "# Example: Split the 'gdaxi' dataset\n",
        "#gdaxi_df = stock_data['gdaxi']  # Load 'gdaxi' DataFrame\n",
        "#train_gdaxi, val_gdaxi, test_gdaxi = split_data(gdaxi_df, train_ratio, val_ratio)\n",
        "\n",
        "# Print sizes of each split\n",
        "#print(f\"Train size: {len(train_gdaxi)}, Validation size: {len(val_gdaxi)}, Test size: {len(test_gdaxi)}\")\n",
        "'''\n"
      ],
      "metadata": {
        "id": "hOiuJ828Hw7E"
      },
      "execution_count": null,
      "outputs": []
    },
    {
      "cell_type": "code",
      "source": [
        "# Initialize dictionary to store split datasets\n",
        "train_data = {}\n",
        "val_data = {}\n",
        "test_data = {}\n",
        "\n",
        "directory = \"data\"\n",
        "filename = \"gsptse.csv\"\n",
        "f_train = os.path.join(directory, \"train_\" + filename)\n",
        "f_test = os.path.join(directory, \"test_\" + filename)\n",
        "f_val = os.path.join(directory, \"val_\" + filename)\n",
        "df_train = pd.read_csv(f_train)\n",
        "df_test = pd.read_csv(f_test)\n",
        "df_val = pd.read_csv(f_val)\n",
        "\n",
        "# Loop through each file in the stock dataset folder\n",
        "#for stock_name, df in stock_data.items():\n",
        "    # Split each stock data into train, val, test\n",
        "    #train, val, test = split_data(df, train_ratio, val_ratio)\n",
        "\n",
        "    # Store the datasets in respective dictionaries\n",
        "train_data[stock_name] = df_train\n",
        "val_data[stock_name] = df_val\n",
        "test_data[stock_name] = df_test\n",
        "\n",
        "    # Print the sizes of the splits for verification\n",
        "print(f\"{stock_name} - Train size: {len(df_train)}, Validation size: {len(df_val)}, Test size: {len(df_test)}\")\n"
      ],
      "metadata": {
        "colab": {
          "base_uri": "https://localhost:8080/"
        },
        "id": "sJ5lhHhvWk5L",
        "outputId": "76cb7244-6236-4191-c93b-cc7e8aeb192e"
      },
      "execution_count": null,
      "outputs": [
        {
          "output_type": "stream",
          "name": "stdout",
          "text": [
            "train_gsptse - Train size: 1254, Validation size: 252, Test size: 503\n"
          ]
        }
      ]
    },
    {
      "cell_type": "code",
      "source": [
        "def preprocess_data(df, scaler, look_back=60):\n",
        "    \"\"\"\n",
        "    Prepares the data for the LSTM model by creating sequences.\n",
        "    df: DataFrame containing stock data.\n",
        "    scaler: Fitted MinMaxScaler instance for consistent scaling.\n",
        "    look_back: Number of previous days to use for prediction.\n",
        "    \"\"\"\n",
        "    # Normalize the data using the provided scaler, ensuring DataFrame input\n",
        "    scaled_data = scaler.transform(df[['Close']])  # Use DataFrame for transformation\n",
        "\n",
        "    # Create sequences\n",
        "    X, y = [], []\n",
        "    for i in range(look_back, len(scaled_data)):\n",
        "        X.append(scaled_data[i - look_back:i, 0])  # Previous 'look_back' values as features\n",
        "        y.append(scaled_data[i, 0])  # Current value as target\n",
        "\n",
        "    # Convert to numpy arrays and reshape for LSTM\n",
        "    X = np.array(X)\n",
        "    y = np.array(y)\n",
        "    X = X.reshape(X.shape[0], X.shape[1], 1)  # Reshape for LSTM (samples, time-steps, features)\n",
        "\n",
        "    return X, y"
      ],
      "metadata": {
        "id": "Whw7NNYI4QZs"
      },
      "execution_count": null,
      "outputs": []
    },
    {
      "cell_type": "code",
      "source": [
        "import numpy as np\n",
        "from sklearn.preprocessing import MinMaxScaler\n",
        "\n",
        "# Initialize dictionaries to store preprocessed data\n",
        "train_X, train_y = {}, {}\n",
        "val_X, val_y = {}, {}\n",
        "test_X, test_y = {}, {}\n",
        "\n",
        "# Preprocess each stock's dataset consistently\n",
        "for stock_name in train_data.keys():\n",
        "    # Initialize and fit scaler on training data only\n",
        "    scaler = MinMaxScaler(feature_range=(0, 1))\n",
        "    scaler.fit(train_data[stock_name][['Close']])  # Ensure input is a DataFrame\n",
        "\n",
        "    # Preprocess train, validation, and test datasets using the same scaler\n",
        "    train_X[stock_name], train_y[stock_name] = preprocess_data(train_data[stock_name], scaler)\n",
        "    val_X[stock_name], val_y[stock_name] = preprocess_data(val_data[stock_name], scaler)\n",
        "    test_X[stock_name], test_y[stock_name] = preprocess_data(test_data[stock_name], scaler)\n",
        "\n",
        "    # Print the shape of the processed data\n",
        "    print(f\"{stock_name} - Train shape: {train_X[stock_name].shape}, Validation shape: {val_X[stock_name].shape}, Test shape: {test_X[stock_name].shape}\")\n"
      ],
      "metadata": {
        "colab": {
          "base_uri": "https://localhost:8080/"
        },
        "id": "bELrG96h4nPz",
        "outputId": "ece220cf-96f4-4344-e56c-c86b31f9e801"
      },
      "execution_count": null,
      "outputs": [
        {
          "output_type": "stream",
          "name": "stdout",
          "text": [
            "train_gsptse - Train shape: (1194, 60, 1), Validation shape: (192, 60, 1), Test shape: (443, 60, 1)\n"
          ]
        }
      ]
    },
    {
      "cell_type": "code",
      "source": [
        "# Now we finished data preprocessing part\n",
        "# We continue with LSTM model\n",
        "from tensorflow.keras.models import Sequential\n",
        "from tensorflow.keras.layers import LSTM, Dense, Dropout\n",
        "#from tensorflow.keras.optimizers import SGD\n",
        "from tensorflow.keras.optimizers import Adam\n",
        "#from tensorflow.keras.optimizers import RMSprop\n"
      ],
      "metadata": {
        "id": "va8I83MTczzh"
      },
      "execution_count": null,
      "outputs": []
    },
    {
      "cell_type": "code",
      "source": [
        "# Build the LSTM model\n",
        "def create_lstm_model(input_shape):\n",
        "    model = Sequential()\n",
        "\n",
        "    # Add LSTM layer with 50 units, return sequences for the next LSTM layer\n",
        "    model.add(LSTM(units=300, return_sequences=True, activation='relu', input_shape=input_shape))\n",
        "    model.add(Dropout(0.4)) # Add dropout with rate 0.2\n",
        "\n",
        "    # Add another LSTM layer\n",
        "    model.add(LSTM(units=200, return_sequences=True))\n",
        "    model.add(Dropout(0.35)) # Add dropout with rate 0.2\n",
        "    model.add(LSTM(units=150))\n",
        "    model.add(Dropout(0.3)) # Add dropout with rate 0.2\n",
        "\n",
        "    # Add a fully connected layer for prediction\n",
        "    model.add(Dense(units=1))  # Output layer for the predicted stock price\n",
        "\n",
        "    # Compile the model\n",
        "    #model.compile(optimizer=Adam(learning_rate=0.0001), loss='mean_squared_error')\n",
        "    model.compile(optimizer=Adam(learning_rate=0.0001), loss='Huber')\n",
        "    #model.compile(optimizer=Adam(learning_rate=0.0001), loss='mean_absolute_error')\n",
        "    #model.compile(optimizer=SGD(learning_rate=0.01), loss='Huber')\n",
        "    #model.compile(optimizer=RMSprop(learning_rate=0.01), loss='Huber')\n",
        "\n",
        "    return model\n"
      ],
      "metadata": {
        "id": "Q1Crq17Tc4iG"
      },
      "execution_count": null,
      "outputs": []
    },
    {
      "cell_type": "code",
      "source": [
        "print(train_data[stock_name].isna().sum())\n",
        "train_data[stock_name] = train_data[stock_name].dropna()"
      ],
      "metadata": {
        "colab": {
          "base_uri": "https://localhost:8080/"
        },
        "id": "rdnLN5cXyrem",
        "outputId": "55c31372-4ff4-42db-d890-2c0f9c829d9a"
      },
      "execution_count": null,
      "outputs": [
        {
          "output_type": "stream",
          "name": "stdout",
          "text": [
            "Date         0\n",
            "Open         0\n",
            "High         0\n",
            "Low          0\n",
            "Close        0\n",
            "Adj Close    0\n",
            "Volume       0\n",
            "dtype: int64\n"
          ]
        }
      ]
    },
    {
      "cell_type": "code",
      "source": [
        "# Function to train the model\n",
        "from tensorflow.keras.callbacks import ModelCheckpoint\n",
        "def train_lstm_model(model, X_train, y_train, X_val, y_val, epochs=20, batch_size=64):\n",
        "    # Train the model on the training data\n",
        "    #history = model.fit(X_train, y_train, epochs=epochs, batch_size=batch_size,\n",
        "                        #validation_data=(X_val, y_val), verbose=1)\n",
        "\n",
        "    checkpoint = ModelCheckpoint(\n",
        "      filepath= os.path.join(data_dir, f\"{stock_name}_model.keras\"), # Filepath to save the model\n",
        "      monitor='val_loss',       # Monitor validation loss\n",
        "      save_best_only=True,      # Save only the best model\n",
        "      mode='min',               # Minimize the validation loss\n",
        "      verbose=1                 # Print updates when saving\n",
        "    )\n",
        "\n",
        "    # Train the model with the callback\n",
        "    history = model.fit(\n",
        "      X_train,\n",
        "      y_train,\n",
        "      epochs=epochs,\n",
        "      batch_size=batch_size,\n",
        "      validation_data=(X_val, y_val),\n",
        "      callbacks=[checkpoint],   # Pass the checkpoint callback\n",
        "      verbose=1\n",
        "    )\n",
        "\n",
        "    return history\n",
        "\n",
        "# Train models for each stock\n",
        "history = {}\n",
        "for stock_name in train_data.keys():\n",
        "    print(f\"Training model for {stock_name}...\")\n",
        "\n",
        "    # Get the input shape from the training data (use shape of train_X[stock_name] data)\n",
        "    input_shape = train_X[stock_name].shape[1:]\n",
        "\n",
        "    # Create the LSTM model\n",
        "    model = create_lstm_model(input_shape)\n",
        "\n",
        "    # Train the model\n",
        "    history[stock_name] = train_lstm_model(model, train_X[stock_name], train_y[stock_name],\n",
        "                                            val_X[stock_name], val_y[stock_name])\n",
        "\n",
        "\n",
        "\n",
        "    print(f\"Model for {stock_name} trained successfully!\")"
      ],
      "metadata": {
        "colab": {
          "base_uri": "https://localhost:8080/"
        },
        "id": "Y82L-Tw1dYYd",
        "outputId": "7b8da98b-1647-4d53-c84d-54f486bbae97"
      },
      "execution_count": null,
      "outputs": [
        {
          "output_type": "stream",
          "name": "stdout",
          "text": [
            "Training model for train_gsptse...\n"
          ]
        },
        {
          "output_type": "stream",
          "name": "stderr",
          "text": [
            "/usr/local/lib/python3.10/dist-packages/keras/src/layers/rnn/rnn.py:204: UserWarning: Do not pass an `input_shape`/`input_dim` argument to a layer. When using Sequential models, prefer using an `Input(shape)` object as the first layer in the model instead.\n",
            "  super().__init__(**kwargs)\n"
          ]
        },
        {
          "output_type": "stream",
          "name": "stdout",
          "text": [
            "Epoch 1/20\n",
            "\u001b[1m19/19\u001b[0m \u001b[32m━━━━━━━━━━━━━━━━━━━━\u001b[0m\u001b[37m\u001b[0m \u001b[1m0s\u001b[0m 774ms/step - loss: 0.1626\n",
            "Epoch 1: val_loss improved from inf to 0.00368, saving model to data/train_gsptse_model.keras\n",
            "\u001b[1m19/19\u001b[0m \u001b[32m━━━━━━━━━━━━━━━━━━━━\u001b[0m\u001b[37m\u001b[0m \u001b[1m21s\u001b[0m 846ms/step - loss: 0.1600 - val_loss: 0.0037\n",
            "Epoch 2/20\n",
            "\u001b[1m19/19\u001b[0m \u001b[32m━━━━━━━━━━━━━━━━━━━━\u001b[0m\u001b[37m\u001b[0m \u001b[1m0s\u001b[0m 732ms/step - loss: 0.0130\n",
            "Epoch 2: val_loss did not improve from 0.00368\n",
            "\u001b[1m19/19\u001b[0m \u001b[32m━━━━━━━━━━━━━━━━━━━━\u001b[0m\u001b[37m\u001b[0m \u001b[1m20s\u001b[0m 793ms/step - loss: 0.0129 - val_loss: 0.0106\n",
            "Epoch 3/20\n",
            "\u001b[1m19/19\u001b[0m \u001b[32m━━━━━━━━━━━━━━━━━━━━\u001b[0m\u001b[37m\u001b[0m \u001b[1m0s\u001b[0m 760ms/step - loss: 0.0056\n",
            "Epoch 3: val_loss did not improve from 0.00368\n",
            "\u001b[1m19/19\u001b[0m \u001b[32m━━━━━━━━━━━━━━━━━━━━\u001b[0m\u001b[37m\u001b[0m \u001b[1m20s\u001b[0m 798ms/step - loss: 0.0056 - val_loss: 0.0038\n",
            "Epoch 4/20\n",
            "\u001b[1m19/19\u001b[0m \u001b[32m━━━━━━━━━━━━━━━━━━━━\u001b[0m\u001b[37m\u001b[0m \u001b[1m0s\u001b[0m 760ms/step - loss: 0.0045\n",
            "Epoch 4: val_loss improved from 0.00368 to 0.00346, saving model to data/train_gsptse_model.keras\n",
            "\u001b[1m19/19\u001b[0m \u001b[32m━━━━━━━━━━━━━━━━━━━━\u001b[0m\u001b[37m\u001b[0m \u001b[1m21s\u001b[0m 805ms/step - loss: 0.0045 - val_loss: 0.0035\n",
            "Epoch 5/20\n",
            "\u001b[1m19/19\u001b[0m \u001b[32m━━━━━━━━━━━━━━━━━━━━\u001b[0m\u001b[37m\u001b[0m \u001b[1m0s\u001b[0m 785ms/step - loss: 0.0042\n",
            "Epoch 5: val_loss did not improve from 0.00346\n",
            "\u001b[1m19/19\u001b[0m \u001b[32m━━━━━━━━━━━━━━━━━━━━\u001b[0m\u001b[37m\u001b[0m \u001b[1m21s\u001b[0m 822ms/step - loss: 0.0042 - val_loss: 0.0035\n",
            "Epoch 6/20\n",
            "\u001b[1m19/19\u001b[0m \u001b[32m━━━━━━━━━━━━━━━━━━━━\u001b[0m\u001b[37m\u001b[0m \u001b[1m0s\u001b[0m 752ms/step - loss: 0.0039\n",
            "Epoch 6: val_loss did not improve from 0.00346\n",
            "\u001b[1m19/19\u001b[0m \u001b[32m━━━━━━━━━━━━━━━━━━━━\u001b[0m\u001b[37m\u001b[0m \u001b[1m20s\u001b[0m 789ms/step - loss: 0.0039 - val_loss: 0.0035\n",
            "Epoch 7/20\n",
            "\u001b[1m19/19\u001b[0m \u001b[32m━━━━━━━━━━━━━━━━━━━━\u001b[0m\u001b[37m\u001b[0m \u001b[1m0s\u001b[0m 764ms/step - loss: 0.0037\n",
            "Epoch 7: val_loss did not improve from 0.00346\n",
            "\u001b[1m19/19\u001b[0m \u001b[32m━━━━━━━━━━━━━━━━━━━━\u001b[0m\u001b[37m\u001b[0m \u001b[1m15s\u001b[0m 803ms/step - loss: 0.0037 - val_loss: 0.0038\n",
            "Epoch 8/20\n",
            "\u001b[1m19/19\u001b[0m \u001b[32m━━━━━━━━━━━━━━━━━━━━\u001b[0m\u001b[37m\u001b[0m \u001b[1m0s\u001b[0m 761ms/step - loss: 0.0037\n",
            "Epoch 8: val_loss did not improve from 0.00346\n",
            "\u001b[1m19/19\u001b[0m \u001b[32m━━━━━━━━━━━━━━━━━━━━\u001b[0m\u001b[37m\u001b[0m \u001b[1m20s\u001b[0m 798ms/step - loss: 0.0037 - val_loss: 0.0043\n",
            "Epoch 9/20\n",
            "\u001b[1m19/19\u001b[0m \u001b[32m━━━━━━━━━━━━━━━━━━━━\u001b[0m\u001b[37m\u001b[0m \u001b[1m0s\u001b[0m 765ms/step - loss: 0.0041\n",
            "Epoch 9: val_loss improved from 0.00346 to 0.00322, saving model to data/train_gsptse_model.keras\n",
            "\u001b[1m19/19\u001b[0m \u001b[32m━━━━━━━━━━━━━━━━━━━━\u001b[0m\u001b[37m\u001b[0m \u001b[1m21s\u001b[0m 806ms/step - loss: 0.0041 - val_loss: 0.0032\n",
            "Epoch 10/20\n",
            "\u001b[1m19/19\u001b[0m \u001b[32m━━━━━━━━━━━━━━━━━━━━\u001b[0m\u001b[37m\u001b[0m \u001b[1m0s\u001b[0m 755ms/step - loss: 0.0036\n",
            "Epoch 10: val_loss improved from 0.00322 to 0.00253, saving model to data/train_gsptse_model.keras\n",
            "\u001b[1m19/19\u001b[0m \u001b[32m━━━━━━━━━━━━━━━━━━━━\u001b[0m\u001b[37m\u001b[0m \u001b[1m16s\u001b[0m 820ms/step - loss: 0.0036 - val_loss: 0.0025\n",
            "Epoch 11/20\n",
            "\u001b[1m19/19\u001b[0m \u001b[32m━━━━━━━━━━━━━━━━━━━━\u001b[0m\u001b[37m\u001b[0m \u001b[1m0s\u001b[0m 774ms/step - loss: 0.0033\n",
            "Epoch 11: val_loss did not improve from 0.00253\n",
            "\u001b[1m19/19\u001b[0m \u001b[32m━━━━━━━━━━━━━━━━━━━━\u001b[0m\u001b[37m\u001b[0m \u001b[1m20s\u001b[0m 813ms/step - loss: 0.0033 - val_loss: 0.0027\n",
            "Epoch 12/20\n",
            "\u001b[1m19/19\u001b[0m \u001b[32m━━━━━━━━━━━━━━━━━━━━\u001b[0m\u001b[37m\u001b[0m \u001b[1m0s\u001b[0m 926ms/step - loss: 0.0034\n",
            "Epoch 12: val_loss improved from 0.00253 to 0.00242, saving model to data/train_gsptse_model.keras\n",
            "\u001b[1m19/19\u001b[0m \u001b[32m━━━━━━━━━━━━━━━━━━━━\u001b[0m\u001b[37m\u001b[0m \u001b[1m24s\u001b[0m 994ms/step - loss: 0.0034 - val_loss: 0.0024\n",
            "Epoch 13/20\n",
            "\u001b[1m19/19\u001b[0m \u001b[32m━━━━━━━━━━━━━━━━━━━━\u001b[0m\u001b[37m\u001b[0m \u001b[1m0s\u001b[0m 760ms/step - loss: 0.0032\n",
            "Epoch 13: val_loss did not improve from 0.00242\n",
            "\u001b[1m19/19\u001b[0m \u001b[32m━━━━━━━━━━━━━━━━━━━━\u001b[0m\u001b[37m\u001b[0m \u001b[1m17s\u001b[0m 796ms/step - loss: 0.0032 - val_loss: 0.0027\n",
            "Epoch 14/20\n",
            "\u001b[1m19/19\u001b[0m \u001b[32m━━━━━━━━━━━━━━━━━━━━\u001b[0m\u001b[37m\u001b[0m \u001b[1m0s\u001b[0m 768ms/step - loss: 0.0032\n",
            "Epoch 14: val_loss did not improve from 0.00242\n",
            "\u001b[1m19/19\u001b[0m \u001b[32m━━━━━━━━━━━━━━━━━━━━\u001b[0m\u001b[37m\u001b[0m \u001b[1m21s\u001b[0m 804ms/step - loss: 0.0032 - val_loss: 0.0030\n",
            "Epoch 15/20\n",
            "\u001b[1m19/19\u001b[0m \u001b[32m━━━━━━━━━━━━━━━━━━━━\u001b[0m\u001b[37m\u001b[0m \u001b[1m0s\u001b[0m 771ms/step - loss: 0.0033\n",
            "Epoch 15: val_loss did not improve from 0.00242\n",
            "\u001b[1m19/19\u001b[0m \u001b[32m━━━━━━━━━━━━━━━━━━━━\u001b[0m\u001b[37m\u001b[0m \u001b[1m21s\u001b[0m 808ms/step - loss: 0.0033 - val_loss: 0.0026\n",
            "Epoch 16/20\n",
            "\u001b[1m19/19\u001b[0m \u001b[32m━━━━━━━━━━━━━━━━━━━━\u001b[0m\u001b[37m\u001b[0m \u001b[1m0s\u001b[0m 772ms/step - loss: 0.0031\n",
            "Epoch 16: val_loss improved from 0.00242 to 0.00213, saving model to data/train_gsptse_model.keras\n",
            "\u001b[1m19/19\u001b[0m \u001b[32m━━━━━━━━━━━━━━━━━━━━\u001b[0m\u001b[37m\u001b[0m \u001b[1m20s\u001b[0m 814ms/step - loss: 0.0031 - val_loss: 0.0021\n",
            "Epoch 17/20\n",
            "\u001b[1m19/19\u001b[0m \u001b[32m━━━━━━━━━━━━━━━━━━━━\u001b[0m\u001b[37m\u001b[0m \u001b[1m0s\u001b[0m 762ms/step - loss: 0.0029\n",
            "Epoch 17: val_loss did not improve from 0.00213\n",
            "\u001b[1m19/19\u001b[0m \u001b[32m━━━━━━━━━━━━━━━━━━━━\u001b[0m\u001b[37m\u001b[0m \u001b[1m20s\u001b[0m 798ms/step - loss: 0.0029 - val_loss: 0.0026\n",
            "Epoch 18/20\n",
            "\u001b[1m19/19\u001b[0m \u001b[32m━━━━━━━━━━━━━━━━━━━━\u001b[0m\u001b[37m\u001b[0m \u001b[1m0s\u001b[0m 764ms/step - loss: 0.0029\n",
            "Epoch 18: val_loss improved from 0.00213 to 0.00211, saving model to data/train_gsptse_model.keras\n",
            "\u001b[1m19/19\u001b[0m \u001b[32m━━━━━━━━━━━━━━━━━━━━\u001b[0m\u001b[37m\u001b[0m \u001b[1m21s\u001b[0m 804ms/step - loss: 0.0029 - val_loss: 0.0021\n",
            "Epoch 19/20\n",
            "\u001b[1m19/19\u001b[0m \u001b[32m━━━━━━━━━━━━━━━━━━━━\u001b[0m\u001b[37m\u001b[0m \u001b[1m0s\u001b[0m 768ms/step - loss: 0.0030\n",
            "Epoch 19: val_loss improved from 0.00211 to 0.00178, saving model to data/train_gsptse_model.keras\n",
            "\u001b[1m19/19\u001b[0m \u001b[32m━━━━━━━━━━━━━━━━━━━━\u001b[0m\u001b[37m\u001b[0m \u001b[1m21s\u001b[0m 810ms/step - loss: 0.0030 - val_loss: 0.0018\n",
            "Epoch 20/20\n",
            "\u001b[1m19/19\u001b[0m \u001b[32m━━━━━━━━━━━━━━━━━━━━\u001b[0m\u001b[37m\u001b[0m \u001b[1m0s\u001b[0m 764ms/step - loss: 0.0026\n",
            "Epoch 20: val_loss did not improve from 0.00178\n",
            "\u001b[1m19/19\u001b[0m \u001b[32m━━━━━━━━━━━━━━━━━━━━\u001b[0m\u001b[37m\u001b[0m \u001b[1m20s\u001b[0m 802ms/step - loss: 0.0026 - val_loss: 0.0020\n",
            "Model for train_gsptse trained successfully!\n"
          ]
        }
      ]
    },
    {
      "cell_type": "code",
      "source": [
        "# Function to evaluate the model\n",
        "def evaluate_lstm_model(model, X_test, y_test):\n",
        "    # Evaluate the model on the test data\n",
        "    test_loss = model.evaluate(X_test, y_test, verbose=0)\n",
        "    return test_loss\n",
        "\n",
        "# Evaluate models for each stock\n",
        "test_losses = {}\n",
        "for stock_name in test_data.keys():\n",
        "    print(f\"Evaluating model for {stock_name}...\")\n",
        "\n",
        "    # Get the trained model for this stock\n",
        "    model = create_lstm_model(train_X[stock_name].shape[1:])  # Define model again with same shape\n",
        "    model.set_weights(history[stock_name].model.get_weights())  # Load weights from the training history\n",
        "\n",
        "    # Evaluate the model on test data\n",
        "    test_loss = evaluate_lstm_model(model, test_X[stock_name], test_y[stock_name])\n",
        "    test_losses[stock_name] = test_loss\n",
        "    print(f\"Test loss for {stock_name}: {test_loss}\")\n"
      ],
      "metadata": {
        "colab": {
          "base_uri": "https://localhost:8080/"
        },
        "id": "4DQk35owxv0L",
        "outputId": "c15de56e-5b56-4ec2-d088-910268634c8d"
      },
      "execution_count": null,
      "outputs": [
        {
          "output_type": "stream",
          "name": "stdout",
          "text": [
            "Evaluating model for train_gsptse...\n"
          ]
        },
        {
          "output_type": "stream",
          "name": "stderr",
          "text": [
            "/usr/local/lib/python3.10/dist-packages/keras/src/layers/rnn/rnn.py:204: UserWarning: Do not pass an `input_shape`/`input_dim` argument to a layer. When using Sequential models, prefer using an `Input(shape)` object as the first layer in the model instead.\n",
            "  super().__init__(**kwargs)\n"
          ]
        },
        {
          "output_type": "stream",
          "name": "stdout",
          "text": [
            "Test loss for train_gsptse: 0.004487354774028063\n"
          ]
        }
      ]
    },
    {
      "cell_type": "code",
      "source": [
        "import matplotlib.pyplot as plt # Import matplotlib.pyplot\n",
        "from tensorflow.keras.models import load_model\n",
        "\n",
        "best_model = load_model(data_dir + \"/\" + \"train_gsptse\" + \"_model.keras\")\n",
        "\n",
        "# Function to make predictions and compare with actual values\n",
        "def predict_and_compare(model, X_test, y_test, scaler):\n",
        "    # Make predictions\n",
        "    predictions = best_model.predict(X_test)\n",
        "\n",
        "    # Inverse transform the predictions and actual values to the original scale\n",
        "    predictions = scaler.inverse_transform(np.concatenate((predictions, predictions[:,:1]), axis=1))[:,0] # added this line\n",
        "    actual_values = scaler.inverse_transform(np.concatenate((y_test.reshape(-1, 1), y_test.reshape(-1, 1)), axis=1))[:,0]\n",
        "\n",
        "    # Create a DataFrame for comparison\n",
        "    comparison_df = pd.DataFrame({'Predicted': predictions, 'Actual': actual_values})\n",
        "    return comparison_df\n",
        "\n",
        "# Assuming you have trained models stored in the 'history' dictionary and scalers for each stock\n",
        "\n",
        "# Change the loop to iterate over train_data keys instead of stock_data\n",
        "for stock_name in train_data:  # Use train_data.keys() or just train_data\n",
        "    print(f\"\\nPredictions and Actual Values for {stock_name}:\")\n",
        "\n",
        "    # Get the trained model and scaler for this stock\n",
        "    best_model = create_lstm_model(train_X[stock_name].shape[1:])  # Define model again with same shape\n",
        "    best_model.set_weights(history[stock_name].model.get_weights())\n",
        "\n",
        "    # Preprocess the data again for the correct scaler\n",
        "    #_, _, scaler = preprocess_data(stock_data[stock_name][['Close']])\n",
        "\n",
        "    # Get the scaler used during training for this stock\n",
        "    scaler = MinMaxScaler(feature_range=(0, 1))  # Create a new scaler\n",
        "    scaler.fit(train_data[stock_name][['Close']])  # Fit it to the training data\n",
        "\n",
        "    # Make predictions and compare\n",
        "    comparison_df = predict_and_compare(model, test_X[stock_name], test_y[stock_name], scaler)\n",
        "    print(comparison_df)\n",
        "\n",
        "    # Plot predictions vs actual\n",
        "    plt.figure(figsize=(10, 6))\n",
        "    plt.plot(comparison_df['Predicted'], label='Predicted')\n",
        "    plt.plot(comparison_df['Actual'], label='Actual')\n",
        "    plt.title(f\"Predicted vs Actual for {stock_name}\")\n",
        "    plt.xlabel(\"Time\")\n",
        "    plt.ylabel(\"Close Price\")\n",
        "    plt.legend()\n",
        "    plt.show()"
      ],
      "metadata": {
        "colab": {
          "base_uri": "https://localhost:8080/",
          "height": 914
        },
        "id": "PQ-XTFPsroNE",
        "outputId": "f93fb144-320e-4be3-90c0-b04721968a4b"
      },
      "execution_count": null,
      "outputs": [
        {
          "output_type": "stream",
          "name": "stdout",
          "text": [
            "\n",
            "Predictions and Actual Values for train_gsptse:\n"
          ]
        },
        {
          "output_type": "stream",
          "name": "stderr",
          "text": [
            "/usr/local/lib/python3.10/dist-packages/keras/src/layers/rnn/rnn.py:204: UserWarning: Do not pass an `input_shape`/`input_dim` argument to a layer. When using Sequential models, prefer using an `Input(shape)` object as the first layer in the model instead.\n",
            "  super().__init__(**kwargs)\n"
          ]
        },
        {
          "output_type": "stream",
          "name": "stdout",
          "text": [
            "\u001b[1m14/14\u001b[0m \u001b[32m━━━━━━━━━━━━━━━━━━━━\u001b[0m\u001b[37m\u001b[0m \u001b[1m3s\u001b[0m 178ms/step\n",
            "     Predicted    Actual\n",
            "0     0.734885  0.733665\n",
            "1     0.735404  0.725713\n",
            "2     0.735701  0.744476\n",
            "3     0.735987  0.749807\n",
            "4     0.736429  0.752189\n",
            "..         ...       ...\n",
            "438   0.936844  0.947808\n",
            "439   0.938516  0.952320\n",
            "440   0.939985  0.940333\n",
            "441   0.941194  0.940691\n",
            "442   0.942135  0.923953\n",
            "\n",
            "[443 rows x 2 columns]\n"
          ]
        },
        {
          "output_type": "display_data",
          "data": {
            "text/plain": [
              "<Figure size 1000x600 with 1 Axes>"
            ],
            "image/png": "[encoded data removed]"
          },
          "metadata": {}
        }
      ]
    }
  ]
}